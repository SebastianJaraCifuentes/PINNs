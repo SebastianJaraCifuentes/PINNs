{
 "cells": [
  {
   "cell_type": "code",
   "execution_count": 1,
   "metadata": {},
   "outputs": [
    {
     "name": "stdout",
     "output_type": "stream",
     "text": [
      "GPU is available\n"
     ]
    }
   ],
   "source": [
    "import tensorflow as tf\n",
    "import numpy as np\n",
    "import matplotlib.pyplot as plt\n",
    "\n",
    "import scipy.io\n",
    "\n",
    "check_gpu = len(tf.config.list_physical_devices('GPU'))>0\n",
    "print(\"GPU is\", \"available\" if check_gpu \\\n",
    "      else \"NOT AVAILABLE\" )\n",
    "\n",
    "#tipos de datos \n",
    "DTYPE = 'float32'\n",
    "tf.keras.backend.set_floatx(DTYPE)   #establece el tipo de float predeterminado"
   ]
  },
  {
   "cell_type": "markdown",
   "metadata": {},
   "source": [
    "# Static Model\n",
    "Referencia: Capítulo 5 \"Deep Learning in Computational Mechanics: An introductory Course\". Stefan Kollmannsberger. "
   ]
  },
  {
   "cell_type": "markdown",
   "metadata": {},
   "source": [
    "Modelo lineal de barra elástica unidimensional estática"
   ]
  },
  {
   "cell_type": "markdown",
   "metadata": {},
   "source": [
    "1. $$\\dfrac{d}{dx} \\left(EA\\dfrac{du}{dx}\\right) + p = 0 \\hspace{0.8cm}  \\text{en }\\, \\Omega,$$\n",
    "\n",
    "2. $$EA\\dfrac{du}{dx} = F \\hspace{0.8cm}  \\text{en }\\, \\Gamma_N $$\n",
    "\n",
    "2. $$u = g \\hspace{0.8cm}  \\text{en }\\, \\Gamma_D $$"
   ]
  },
  {
   "cell_type": "markdown",
   "metadata": {},
   "source": [
    "El módulo de Young $E(x)$ y el área de la sección transversal $A(x)$ pueden variar con respecto a x."
   ]
  },
  {
   "cell_type": "markdown",
   "metadata": {},
   "source": [
    "## Ejemplo\n",
    "\n",
    "Considere $\\Omega = [0,1]$, $\\Gamma_D = \\{ x \\,|\\, x = 0, x = 1\\}$ y $\\Gamma_N = \\emptyset$. Los parámetros del material satisfacen $EA = 1$. La solución elegida para el desplazamiento viene dada por \n",
    "\n",
    "$$u(x) = \\sin(2\\pi x)$$\n",
    "\n",
    "que, después de reemplazarla en (1), resulta la carga distribuida \n",
    "\n",
    "$$p(x) = 4\\pi^2 \\sin(2\\pi x).$$ \n",
    "\n",
    "Además las condiciones de dirichlet vienen dadas por $u(0) = u(1) = 0$.\n"
   ]
  },
  {
   "cell_type": "markdown",
   "metadata": {},
   "source": [
    "## Enfoque PINNs "
   ]
  },
  {
   "cell_type": "markdown",
   "metadata": {},
   "source": [
    "## Enfoque PINNs \n",
    "Considere los siguientes conjuntos:\n",
    "\n",
    "* $\\{x_j^{f}\\}_{j=1}^{N_f}$ un conjunto de puntos en el interior de $\\Omega$.\n",
    "\n",
    "* $\\{x_j^{b}\\}_{j=1}^{N_b}$ un conjunto de puntos en $\\Gamma_D$. \n",
    "\n",
    "\n",
    "\n",
    "\n",
    "Sea ${u}_{NN}(x; \\vec{\\theta})$ una red neuronal feed-forward con una neurona de entradas, una neurona de salida, $L$ capas ocultas de $N_L$ neuronas en cada capa oculta. El enfoque PINNs sostiene que la solución del problema 1-2-3 se reduce a determinar los pesos y sesgos (vector $\\vec{\\theta}$) de la red ${u}_{NN}$ que minimiza la siguiente función de pérdida:\n",
    "\n",
    "\n",
    "$$\\mathcal{L}(\\vec{\\theta}) =  \\mathcal{L}_f(\\vec{\\theta}) + \\mathcal{L}_{b}(\\vec{\\theta})$$\n",
    "\n",
    "\n",
    "donde \n",
    "\n",
    "$$\\mathcal{L}_f(\\vec{\\theta}) = \\dfrac{1}{N_f}\\sum_{j = 1}^{N_f} \\left(\\dfrac{d}{dx} \\left(EA \\dfrac{d}{dx} u_{NN} (x_j^f) \\right)  + p(x_j^f)\\right)^2,$$\n",
    "\n",
    "$$\\mathcal{L}_{b}(\\vec{\\theta}) = \\dfrac{1}{N_b}\\sum_{j = 1}^{N_b}  \\left(u_{NN}(x_j^{b}) - 0  \\right)^2.$$\n"
   ]
  },
  {
   "cell_type": "markdown",
   "metadata": {},
   "source": [
    "### Dominios"
   ]
  },
  {
   "cell_type": "code",
   "execution_count": 5,
   "metadata": {},
   "outputs": [],
   "source": [
    "xmin = 0\n",
    "xmax = 1\n",
    "#puntos de colocación\n",
    "X_f = tf.constant(xmin + (xmax-xmin)*np.random.rand(100,1), dtype=DTYPE)\n",
    "#puntos de borde\n",
    "X_b = tf.constant([[xmin],[xmax]], dtype=DTYPE)"
   ]
  },
  {
   "cell_type": "markdown",
   "metadata": {},
   "source": [
    "### Red Feed-Forward"
   ]
  },
  {
   "cell_type": "code",
   "execution_count": 51,
   "metadata": {},
   "outputs": [],
   "source": [
    "#Red Neuronal\n",
    "def init_model(num_hidden_layers = 2, num_neurons_per_layer = 20 ):\n",
    "    model = tf.keras.Sequential()\n",
    "    model.add(tf.keras.Input(1))  #una neurona de input\n",
    "\n",
    "    for _ in range(num_hidden_layers):  #capas ocultas\n",
    "        model.add(tf.keras.layers.Dense(num_neurons_per_layer, \n",
    "                                        activation = tf.keras.activations.get('tanh'),\n",
    "                                       kernel_initializer = 'glorot_normal'))\n",
    "    \n",
    "    model.add(tf.keras.layers.Dense(1))  #una neurona de output\n",
    "    return model"
   ]
  },
  {
   "cell_type": "code",
   "execution_count": 8,
   "metadata": {},
   "outputs": [],
   "source": [
    "model_1 = init_model()"
   ]
  },
  {
   "cell_type": "markdown",
   "metadata": {},
   "source": [
    "### Derivada de la red con respecto al input"
   ]
  },
  {
   "cell_type": "code",
   "execution_count": 50,
   "metadata": {},
   "outputs": [],
   "source": [
    "def get_derivate(model, X):\n",
    "    with tf.GradientTape() as outer_tape:\n",
    "        outer_tape.watch(X)\n",
    "        with tf.GradientTape() as inner_tape:\n",
    "            inner_tape.watch(X)\n",
    "            u = model(X)\n",
    "        du_dx = inner_tape.gradient(u, X) #primera derivada de u respecto a x\n",
    "    ddu_ddx = outer_tape.gradient(du_dx, X)  #segunda derivada de u respecto a x\n",
    "    return ddu_ddx, du_dx, u"
   ]
  },
  {
   "cell_type": "code",
   "execution_count": 14,
   "metadata": {},
   "outputs": [],
   "source": [
    "#get_derivate(model_1, X_f)"
   ]
  },
  {
   "cell_type": "markdown",
   "metadata": {},
   "source": [
    "### PINNs"
   ]
  },
  {
   "cell_type": "code",
   "execution_count": 15,
   "metadata": {},
   "outputs": [],
   "source": [
    "def f(model_1, X):\n",
    "    ddu_ddx, _, _ = get_derivate(model_1, X_f)\n",
    "    p = 4.0 * np.pi**2 * tf.sin(2.0*np.pi*X)\n",
    "    return ddu_ddx + p"
   ]
  },
  {
   "cell_type": "code",
   "execution_count": 18,
   "metadata": {},
   "outputs": [],
   "source": [
    "#f(model_1, X_f)"
   ]
  },
  {
   "cell_type": "markdown",
   "metadata": {},
   "source": [
    "### Función de Perdida"
   ]
  },
  {
   "cell_type": "code",
   "execution_count": 20,
   "metadata": {},
   "outputs": [],
   "source": [
    "def compute_loss(model, X, X_):\n",
    "    f_ = f(model, X)\n",
    "    loss_f = tf.reduce_mean(tf.square(f_))\n",
    "    loss_b = tf.reduce_mean(tf.square(model(X_) - 0.0)) \n",
    "\n",
    "    loss = loss_f + loss_b\n",
    "    return loss, loss_f, loss_b\n"
   ]
  },
  {
   "cell_type": "code",
   "execution_count": 22,
   "metadata": {},
   "outputs": [],
   "source": [
    "#compute_loss(model_1, X_f, X_b)"
   ]
  },
  {
   "cell_type": "markdown",
   "metadata": {},
   "source": [
    "### Derivada de la función de Pérdida con respecto a los pesos y sesgos de la red"
   ]
  },
  {
   "cell_type": "code",
   "execution_count": 52,
   "metadata": {},
   "outputs": [],
   "source": [
    "def get_derivate_loss(model, X, X_):\n",
    "    with tf.GradientTape() as tape:\n",
    "        loss, loss_f, loss_b = compute_loss(model, X, X_)\n",
    "    grads = tape.gradient(loss, model.trainable_variables) #gradiente de la función de pérdida con respecto a los pesos de la red\n",
    "    return grads, loss, loss_f, loss_b"
   ]
  },
  {
   "cell_type": "code",
   "execution_count": 25,
   "metadata": {},
   "outputs": [],
   "source": [
    "#get_derivate_loss(model_1, X_f, X_b)"
   ]
  },
  {
   "cell_type": "markdown",
   "metadata": {},
   "source": [
    "### Entrenamiento"
   ]
  },
  {
   "cell_type": "code",
   "execution_count": 42,
   "metadata": {},
   "outputs": [],
   "source": [
    "model_1 = init_model()"
   ]
  },
  {
   "cell_type": "code",
   "execution_count": 43,
   "metadata": {},
   "outputs": [],
   "source": [
    "optim = tf.keras.optimizers.Adam(learning_rate=0.001)\n",
    "\n",
    "@tf.function\n",
    "def train_step(model, X, X_):\n",
    "    grads, loss, loss_f, loss_b = get_derivate_loss(model, X, X_)\n",
    "    optim.apply_gradients(zip(grads, model.trainable_variables))  #actualiza los pesos\n",
    "    return loss, loss_f, loss_b"
   ]
  },
  {
   "cell_type": "code",
   "execution_count": 53,
   "metadata": {},
   "outputs": [],
   "source": [
    "#diccionario que guardará el cómputo de las componentes de la función de pérdida\n",
    "hist = {'loss': [],\n",
    "        'loss_f': [],\n",
    "        'loss_b': []\n",
    "        }"
   ]
  },
  {
   "cell_type": "code",
   "execution_count": 45,
   "metadata": {},
   "outputs": [
    {
     "name": "stderr",
     "output_type": "stream",
     "text": [
      "2024-05-16 19:27:21.829400: I tensorflow/core/grappler/optimizers/custom_graph_optimizer_registry.cc:113] Plugin optimizer for device_type GPU is enabled.\n"
     ]
    },
    {
     "name": "stdout",
     "output_type": "stream",
     "text": [
      "It 00000: loss = 7.90445190e+02\n",
      "It 01000: loss = 3.42961812e+00\n",
      "It 02000: loss = 1.24006048e-01\n",
      "It 03000: loss = 7.74748251e-03\n",
      "It 04000: loss = 6.29778206e-03\n",
      "It 05000: loss = 5.92960464e-03\n",
      "It 06000: loss = 5.43005345e-03\n",
      "It 07000: loss = 4.72924579e-03\n",
      "It 08000: loss = 3.79975187e-03\n",
      "It 09000: loss = 2.73502246e-03\n",
      "It 10000: loss = 1.87306013e-03\n",
      "Tiempo de Cómputo: 48.09216117858887 segundos\n"
     ]
    }
   ],
   "source": [
    "from time import time  \n",
    "\n",
    "#Número de Épocas\n",
    "N = 10000\n",
    "\n",
    "#Comienzo del tiempo\n",
    "t0 = time()\n",
    "\n",
    "#Bucle Entrenamiento\n",
    "for i in range(N+1):\n",
    "    #Actualización de los pesos de la función de pérdida \n",
    "    loss, loss_f, loss_b = train_step(model_1, X_f, X_b)  \n",
    "\n",
    "    hist['loss'].append(loss.numpy())\n",
    "    hist['loss_f'].append(loss_f.numpy())\n",
    "    hist['loss_b'].append(loss_b.numpy())\n",
    "\n",
    "    #Visualiza el avance de la función de pérdida\n",
    "    if i%1000 == 0:\n",
    "        print(f'It {i:05d}: loss = {loss:10.8e}')\n",
    "        \n",
    "#Mostrar tiempo de calculo \n",
    "print(f'Tiempo de Cómputo: {time()-t0} segundos')\n"
   ]
  },
  {
   "cell_type": "code",
   "execution_count": 47,
   "metadata": {},
   "outputs": [
    {
     "data": {
      "image/png": "[encoded data removed]",
      "text/plain": [
       "<Figure size 648x432 with 1 Axes>"
      ]
     },
     "metadata": {
      "needs_background": "light"
     },
     "output_type": "display_data"
    }
   ],
   "source": [
    "#gráfica pérdida\n",
    "plt.figure(figsize=(9,6))\n",
    "\n",
    "plt.plot(range(len(hist['loss'])), hist['loss'], label = 'Loss Total')\n",
    "plt.plot(range(len(hist['loss_f'])), hist['loss_f'], label = 'Loss Pinn', linestyle = '--')\n",
    "plt.plot(range(len(hist['loss_b'])), hist['loss_b'], label = 'Loss Borde', linestyle = '--')\n",
    "plt.title('Función de Pérdida')\n",
    "plt.legend(loc='upper right')\n",
    "plt.yscale('log')\n",
    "plt.xlabel('Iteración')\n",
    "plt.ylabel('Pérdida')\n",
    "plt.show()"
   ]
  },
  {
   "cell_type": "markdown",
   "metadata": {},
   "source": [
    "### Gráfica Solución"
   ]
  },
  {
   "cell_type": "code",
   "execution_count": 49,
   "metadata": {},
   "outputs": [
    {
     "name": "stdout",
     "output_type": "stream",
     "text": [
      "16/16 [==============================] - 0s 3ms/step\n"
     ]
    },
    {
     "data": {
      "text/plain": [
       "[<matplotlib.lines.Line2D at 0x174a297c0>]"
      ]
     },
     "execution_count": 49,
     "metadata": {},
     "output_type": "execute_result"
    },
    {
     "data": {
      "image/png": "[encoded data removed]",
      "text/plain": [
       "<Figure size 432x288 with 1 Axes>"
      ]
     },
     "metadata": {
      "needs_background": "light"
     },
     "output_type": "display_data"
    }
   ],
   "source": [
    "N = 500\n",
    "xspace = np.linspace(xmin, xmax, N + 1)\n",
    "u_real = np.sin(2.0*np.pi*xspace)\n",
    "u_pred = model_1.predict(xspace)\n",
    "plt.plot(xspace, u_pred, label = 'Predicción')\n",
    "plt.plot(xspace, u_real, label = 'Real', linestyle = '--')"
   ]
  },
  {
   "cell_type": "code",
   "execution_count": null,
   "metadata": {},
   "outputs": [],
   "source": []
  }
 ],
 "metadata": {
  "kernelspec": {
   "display_name": "env_qtf",
   "language": "python",
   "name": "python3"
  },
  "language_info": {
   "codemirror_mode": {
    "name": "ipython",
    "version": 3
   },
   "file_extension": ".py",
   "mimetype": "text/x-python",
   "name": "python",
   "nbconvert_exporter": "python",
   "pygments_lexer": "ipython3",
   "version": "3.9.13"
  }
 },
 "nbformat": 4,
 "nbformat_minor": 2
}
